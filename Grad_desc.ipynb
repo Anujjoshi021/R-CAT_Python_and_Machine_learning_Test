{
 "cells": [
  {
   "cell_type": "code",
   "execution_count": 1,
   "metadata": {},
   "outputs": [
    {
     "name": "stdout",
     "output_type": "stream",
     "text": [
      "Iteration 0: Loss = 21.5\n",
      "Iteration 100: Loss = 0.16236748217876143\n",
      "Iteration 200: Loss = 0.1579799384618981\n",
      "Iteration 300: Loss = 0.15445801352961547\n",
      "Iteration 400: Loss = 0.15162774784580968\n",
      "Iteration 500: Loss = 0.14935216660397285\n",
      "Iteration 600: Loss = 0.14752215144674535\n",
      "Iteration 700: Loss = 0.14605031233019808\n",
      "Iteration 800: Loss = 0.14486649337426138\n",
      "Iteration 900: Loss = 0.1439143138599584\n",
      "Weights: [0.9475822  0.81664095]\n",
      "Bias: 0.7188605853978058\n"
     ]
    }
   ],
   "source": [
    "import numpy as np\n",
    "\n",
    "def gradient_descent_linear_regression(X, y, learning_rate=0.01, num_iterations=1000):\n",
    "   \n",
    "    m, n = X.shape  # m = number of samples, n = number of features\n",
    "    w = np.zeros(n)  # Initialize weights to zeros\n",
    "    b = 0  # Initialize bias to zero\n",
    "    history = []  # To store the cost at each iteration\n",
    "\n",
    "    for i in range(num_iterations):\n",
    "        # Compute predictions\n",
    "        y_pred = np.dot(X, w) + b\n",
    "\n",
    "        # Compute the loss (Mean Squared Error)\n",
    "        loss = (1 / (2 * m)) * np.sum((y_pred - y) ** 2)\n",
    "        history.append(loss)\n",
    "\n",
    "        # Compute gradients\n",
    "        dw = (1 / m) * np.dot(X.T, (y_pred - y))\n",
    "        db = (1 / m) * np.sum(y_pred - y)\n",
    "\n",
    "        # Update parameters\n",
    "        w -= learning_rate * dw\n",
    "        b -= learning_rate * db\n",
    "\n",
    "        # Optionally print loss every 100 iterations for debugging\n",
    "        if i % 100 == 0:\n",
    "            print(f\"Iteration {i}: Loss = {loss}\")\n",
    "\n",
    "    return w, b, history\n",
    "\n",
    "# Example usage:\n",
    "# Let's assume X is our input feature matrix and y is the target vector.\n",
    "\n",
    "X = np.array([[1, 2],\n",
    "              [2, 3],\n",
    "              [4, 5],\n",
    "              [3, 2],\n",
    "              [5, 4]])\n",
    "\n",
    "y = np.array([3, 5, 9, 6, 8])\n",
    "\n",
    "learning_rate = 0.01\n",
    "num_iterations = 1000\n",
    "\n",
    "weights, bias, cost_history = gradient_descent_linear_regression(X, y, learning_rate, num_iterations)\n",
    "\n",
    "print(\"Weights:\", weights)\n",
    "print(\"Bias:\", bias)\n"
   ]
  }
 ],
 "metadata": {
  "kernelspec": {
   "display_name": "Python 3",
   "language": "python",
   "name": "python3"
  },
  "language_info": {
   "codemirror_mode": {
    "name": "ipython",
    "version": 3
   },
   "file_extension": ".py",
   "mimetype": "text/x-python",
   "name": "python",
   "nbconvert_exporter": "python",
   "pygments_lexer": "ipython3",
   "version": "3.8.10"
  }
 },
 "nbformat": 4,
 "nbformat_minor": 2
}
