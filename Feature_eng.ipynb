{
 "cells": [
  {
   "cell_type": "code",
   "execution_count": 1,
   "metadata": {},
   "outputs": [
    {
     "name": "stdout",
     "output_type": "stream",
     "text": [
      "Original DataFrame:\n",
      "   color  age  missing_value\n",
      "0    red   25            1.0\n",
      "1   blue   30            2.0\n",
      "2  green   35            3.0\n",
      "3  green   35            4.0\n",
      "4    red   25            5.0\n",
      "\n",
      "Encoded DataFrame:\n",
      "   color_blue  color_green  color_red\n",
      "0         0.0          0.0        1.0\n",
      "1         1.0          0.0        0.0\n",
      "2         0.0          1.0        0.0\n",
      "3         0.0          1.0        0.0\n",
      "4         0.0          0.0        1.0\n",
      "\n",
      "DataFrame after filling missing values:\n",
      "   color  age  missing_value\n",
      "0    red   25            1.0\n",
      "1   blue   30            2.0\n",
      "2  green   35            3.0\n",
      "3  green   35            4.0\n",
      "4    red   25            5.0\n"
     ]
    },
    {
     "name": "stderr",
     "output_type": "stream",
     "text": [
      "/home/anuj/.local/lib/python3.8/site-packages/sklearn/preprocessing/_encoders.py:975: FutureWarning: `sparse` was renamed to `sparse_output` in version 1.2 and will be removed in 1.4. `sparse_output` is ignored unless you leave `sparse` to its default value.\n",
      "  warnings.warn(\n"
     ]
    }
   ],
   "source": [
    "import pandas as pd\n",
    "from sklearn.preprocessing import OneHotEncoder\n",
    "\n",
    "# Create a sample dataset\n",
    "data = {\n",
    "    'color': ['red', 'blue', 'green', 'green', 'red'],\n",
    "    'age': [25, 30, 35, 35, 25],\n",
    "    'missing_value': [1, 2, None, 4, 5]\n",
    "}\n",
    "df = pd.DataFrame(data)\n",
    "\n",
    "# Handle categorical data using one-hot encoding\n",
    "one_hot_encoder = OneHotEncoder(sparse=False)\n",
    "encoded_data = one_hot_encoder.fit_transform(df[['color']])\n",
    "encoded_df = pd.DataFrame(encoded_data, columns=one_hot_encoder.get_feature_names_out())\n",
    "\n",
    "# Handle missing values\n",
    "df['missing_value'].fillna(df['missing_value'].mean(), inplace=True)\n",
    "\n",
    "print(\"Original DataFrame:\")\n",
    "print(df)\n",
    "print(\"\\nEncoded DataFrame:\")\n",
    "print(encoded_df)\n",
    "print(\"\\nDataFrame after filling missing values:\")\n",
    "print(df)"
   ]
  }
 ],
 "metadata": {
  "kernelspec": {
   "display_name": "Python 3",
   "language": "python",
   "name": "python3"
  },
  "language_info": {
   "codemirror_mode": {
    "name": "ipython",
    "version": 3
   },
   "file_extension": ".py",
   "mimetype": "text/x-python",
   "name": "python",
   "nbconvert_exporter": "python",
   "pygments_lexer": "ipython3",
   "version": "3.8.10"
  }
 },
 "nbformat": 4,
 "nbformat_minor": 2
}
