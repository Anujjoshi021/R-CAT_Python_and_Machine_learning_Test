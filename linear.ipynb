{
 "cells": [
  {
   "cell_type": "code",
   "execution_count": 1,
   "metadata": {},
   "outputs": [
    {
     "name": "stdout",
     "output_type": "stream",
     "text": [
      "Intercept: [4.22215108]\n",
      "Coefficient: [[2.96846751]]\n",
      "Predictions: [[ 4.22215108]\n",
      " [10.1590861 ]]\n"
     ]
    }
   ],
   "source": [
    "import numpy as np\n",
    "\n",
    "class SimpleLR:\n",
    "    def __init__(self):\n",
    "        self.intercept_ = None\n",
    "        self.coeff = None\n",
    "\n",
    "    def fit(self, X, y):\n",
    "        sample = X.shape[0]\n",
    "        X_b = np.c_[np.ones((sample, 1)), X] \n",
    "\n",
    "        self.coeff = np.linalg.inv(X_b.T.dot(X_b)).dot(X_b.T).dot(y)\n",
    "        self.intercept_ = self.coeff[0]\n",
    "        self.coeff = self.coeff[1:]\n",
    "\n",
    "    def predict(self, X):\n",
    "        sample = X.shape[0]\n",
    "        X_b = np.c_[np.ones((sample, 1)), X] \n",
    "        return X_b.dot(np.concatenate([[self.intercept_], self.coeff]))\n",
    "\n",
    "if __name__ == \"__main__\":\n",
    "    np.random.seed(0)\n",
    "    X = 2 * np.random.rand(100, 1)\n",
    "    y = 4 + 3 * X + np.random.randn(100, 1)\n",
    "\n",
    "    model = SimpleLR()\n",
    "    model.fit(X, y)\n",
    "\n",
    "    print(\"Intercept:\", model.intercept_)\n",
    "    print(\"Coefficient:\", model.coeff)\n",
    "\n",
    "    X_new = np.array([[0], [2]])\n",
    "    y_pred = model.predict(X_new)\n",
    "    print(\"Predictions:\", y_pred)\n"
   ]
  }
 ],
 "metadata": {
  "kernelspec": {
   "display_name": "Python 3",
   "language": "python",
   "name": "python3"
  },
  "language_info": {
   "codemirror_mode": {
    "name": "ipython",
    "version": 3
   },
   "file_extension": ".py",
   "mimetype": "text/x-python",
   "name": "python",
   "nbconvert_exporter": "python",
   "pygments_lexer": "ipython3",
   "version": "3.8.10"
  }
 },
 "nbformat": 4,
 "nbformat_minor": 2
}
