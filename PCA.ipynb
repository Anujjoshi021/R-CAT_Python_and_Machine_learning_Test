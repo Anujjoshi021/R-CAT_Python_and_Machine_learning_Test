{
 "cells": [
  {
   "cell_type": "code",
   "execution_count": 1,
   "metadata": {},
   "outputs": [
    {
     "name": "stdout",
     "output_type": "stream",
     "text": [
      "Reduced Data:\n",
      " [[ 0.82797019]\n",
      " [-1.77758033]\n",
      " [ 0.99219749]\n",
      " [ 0.27421042]\n",
      " [ 1.67580142]\n",
      " [ 0.9129491 ]\n",
      " [-0.09910944]\n",
      " [-1.14457216]\n",
      " [-0.43804614]\n",
      " [-1.22382056]]\n",
      "Eigenvalues:\n",
      " [1.28402771 0.0490834 ]\n",
      "Eigenvectors:\n",
      " [[ 0.6778734  -0.73517866]\n",
      " [ 0.73517866  0.6778734 ]]\n"
     ]
    }
   ],
   "source": [
    "import numpy as np\n",
    "\n",
    "def pca(X, num_components):\n",
    "    # Step 1: Standardize the data (center the data)\n",
    "    X_centered = X - np.mean(X, axis=0)\n",
    "    \n",
    "    # Step 2: Compute the covariance matrix\n",
    "    covariance_matrix = np.cov(X_centered, rowvar=False)\n",
    "    \n",
    "    # Step 3: Compute the eigenvalues and eigenvectors\n",
    "    eigenvalues, eigenvectors = np.linalg.eigh(covariance_matrix)\n",
    "    \n",
    "    # Step 4: Sort eigenvectors by decreasing eigenvalues\n",
    "    sorted_index = np.argsort(eigenvalues)[::-1]\n",
    "    sorted_eigenvalues = eigenvalues[sorted_index]\n",
    "    sorted_eigenvectors = eigenvectors[:, sorted_index]\n",
    "    \n",
    "    # Step 5: Select the top 'num_components' eigenvectors (principal components)\n",
    "    eigenvector_subset = sorted_eigenvectors[:, :num_components]\n",
    "    \n",
    "    # Step 6: Transform the data (project the data onto the new subspace)\n",
    "    X_reduced = np.dot(X_centered, eigenvector_subset)\n",
    "    \n",
    "    return X_reduced, sorted_eigenvalues, sorted_eigenvectors\n",
    "\n",
    "# Example usage:\n",
    "# Let's assume X is our input data matrix where each row is a sample and each column is a feature.\n",
    "\n",
    "X = np.array([[2.5, 2.4],\n",
    "              [0.5, 0.7],\n",
    "              [2.2, 2.9],\n",
    "              [1.9, 2.2],\n",
    "              [3.1, 3.0],\n",
    "              [2.3, 2.7],\n",
    "              [2, 1.6],\n",
    "              [1, 1.1],\n",
    "              [1.5, 1.6],\n",
    "              [1.1, 0.9]])\n",
    "\n",
    "num_components = 1\n",
    "X_reduced, eigenvalues, eigenvectors = pca(X, num_components)\n",
    "\n",
    "print(\"Reduced Data:\\n\", X_reduced)\n",
    "print(\"Eigenvalues:\\n\", eigenvalues)\n",
    "print(\"Eigenvectors:\\n\", eigenvectors)\n"
   ]
  }
 ],
 "metadata": {
  "kernelspec": {
   "display_name": "Python 3",
   "language": "python",
   "name": "python3"
  },
  "language_info": {
   "name": "python",
   "version": "3.8.10"
  }
 },
 "nbformat": 4,
 "nbformat_minor": 2
}
