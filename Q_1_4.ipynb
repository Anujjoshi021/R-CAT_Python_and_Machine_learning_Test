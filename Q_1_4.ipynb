{
 "cells": [
  {
   "cell_type": "code",
   "execution_count": 1,
   "id": "40feb64a",
   "metadata": {},
   "outputs": [
    {
     "name": "stdout",
     "output_type": "stream",
     "text": [
      "[100, 400, 900]\n"
     ]
    }
   ],
   "source": [
    "# List Comprehension\n",
    "list1=[10,20,30,35,37,45,65]\n",
    "sq_even = [x**2 for x in list1 if x % 2 == 0]\n",
    "print(sq_even)"
   ]
  },
  {
   "cell_type": "code",
   "execution_count": 7,
   "id": "acebc123",
   "metadata": {},
   "outputs": [
    {
     "name": "stdout",
     "output_type": "stream",
     "text": [
      "[0, 1, 1, 2, 3, 5]\n"
     ]
    }
   ],
   "source": [
    "# Generators\n",
    "def fib_seq(n):\n",
    "    a, b = 0, 1\n",
    "    while a <= n:\n",
    "        yield a\n",
    "        a, b = b, a + b\n",
    "\n",
    "n = 6 \n",
    "fib_gen = list(fib_seq(n))\n",
    "print(fib_gen)\n"
   ]
  },
  {
   "cell_type": "code",
   "execution_count": 10,
   "id": "815d9d3f",
   "metadata": {},
   "outputs": [
    {
     "name": "stdout",
     "output_type": "stream",
     "text": [
      "Error: File 'text.txt' not found.\n"
     ]
    }
   ],
   "source": [
    "# Error handling\n",
    "def read_file(file):\n",
    "    try:\n",
    "        with open(file, 'r') as file:\n",
    "            contents = file.read()\n",
    "            return contents\n",
    "    except FileNotFoundError:\n",
    "        print(f\"Error: File '{file}' not found.\")\n",
    "        return None\n",
    "\n",
    "\n",
    "file = \"text.txt\"\n",
    "file_cont = read_file(file)\n",
    "if file_cont is not None:\n",
    "    print(\"File contents:\")\n",
    "    print(file_cont)\n"
   ]
  },
  {
   "cell_type": "code",
   "execution_count": 12,
   "id": "09daa444",
   "metadata": {},
   "outputs": [
    {
     "name": "stdout",
     "output_type": "stream",
     "text": [
      "Function executed.\n",
      "Execution time: 2.0013532638549805 seconds\n"
     ]
    }
   ],
   "source": [
    "# Decorators\n",
    "import time\n",
    "\n",
    "def time_it(func):\n",
    "    def wrapper(*args, **kwargs):\n",
    "        start_time = time.time()\n",
    "        result = func(*args, **kwargs)\n",
    "        end_time = time.time()\n",
    "        print(f\"Execution time: {end_time - start_time} seconds\")\n",
    "        return result\n",
    "    return wrapper\n",
    "\n",
    "def example_function():\n",
    "    time.sleep(2)\n",
    "    print(\"Function executed.\")\n",
    "\n",
    "example_function = time_it(example_function)\n",
    "\n",
    "example_function()\n"
   ]
  },
  {
   "cell_type": "code",
   "execution_count": null,
   "id": "2eafecce",
   "metadata": {},
   "outputs": [],
   "source": []
  }
 ],
 "metadata": {
  "kernelspec": {
   "display_name": "Python 3 (ipykernel)",
   "language": "python",
   "name": "python3"
  },
  "language_info": {
   "codemirror_mode": {
    "name": "ipython",
    "version": 3
   },
   "file_extension": ".py",
   "mimetype": "text/x-python",
   "name": "python",
   "nbconvert_exporter": "python",
   "pygments_lexer": "ipython3",
   "version": "3.8.10"
  }
 },
 "nbformat": 4,
 "nbformat_minor": 5
}
